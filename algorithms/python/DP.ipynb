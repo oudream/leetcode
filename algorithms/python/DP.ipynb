{
 "cells": [
  {
   "cell_type": "code",
   "execution_count": 2,
   "metadata": {},
   "outputs": [
    {
     "name": "stdout",
     "output_type": "stream",
     "text": [
      "15\n"
     ]
    }
   ],
   "source": [
    "\n",
    "def rec_opt(arr, k):\n",
    "    if (k == 0):\n",
    "        return arr[0]\n",
    "    elif (k == 1):\n",
    "        return max(arr[0], arr[1])\n",
    "    else:\n",
    "        r1=rec_opt(arr, k-1)\n",
    "        r2=rec_opt(arr, k-2)+arr[k]\n",
    "        return max(r1, r2)\n",
    "    \n",
    "arr = [1, 2, 4, 1, 7, 8, 3]\n",
    "print(rec_opt(arr,6))\n"
   ]
  },
  {
   "cell_type": "code",
   "execution_count": 21,
   "metadata": {},
   "outputs": [
    {
     "name": "stdout",
     "output_type": "stream",
     "text": [
      "48.0\n"
     ]
    }
   ],
   "source": [
    "\n",
    "def loop_opt(arr):\n",
    "    import numpy as np\n",
    "    opt = np.zeros(len(arr))\n",
    "    opt[0] = arr[0]\n",
    "    opt[1] = max(arr[0], arr[1])\n",
    "    for i in range(2, len(arr)):\n",
    "        r1 = opt[i-1]\n",
    "        r2 = opt[i-2] + arr[i]\n",
    "        opt[i] = max(r1, r2)\n",
    "    return opt[len(arr)-1]\n",
    "    \n",
    "# arr = [1, 2, 4, 1, 7, 8, 3]\n",
    "print(loop_opt(arr))    \n"
   ]
  },
  {
   "cell_type": "code",
   "execution_count": 11,
   "metadata": {},
   "outputs": [
    {
     "name": "stdout",
     "output_type": "stream",
     "text": [
      "True\n",
      "24\n",
      "True\n",
      "26\n",
      "False\n",
      "30\n"
     ]
    }
   ],
   "source": [
    "\n",
    "iCount=0\n",
    "\n",
    "def rec_subset(arr, i, S):\n",
    "    global iCount\n",
    "    iCount=iCount+1\n",
    "    if (S==0):\n",
    "        return True\n",
    "    elif (i==0):\n",
    "        return arr[i]==S\n",
    "    elif (arr[i]>S):\n",
    "        return rec_subset(arr, i-1, S)\n",
    "    else:\n",
    "        A=rec_subset(arr, i-1, S-arr[i])\n",
    "        B=rec_subset(arr, i-1, S)\n",
    "        return A or B\n",
    "\n",
    "arr=[3, 34, 4, 12, 5, 2]\n",
    "iCount=0\n",
    "print(rec_subset(arr, len(arr)-1, 9))\n",
    "print(iCount)\n",
    "iCount=0\n",
    "print(rec_subset(arr, len(arr)-1, 11))\n",
    "print(iCount)\n",
    "iCount=0\n",
    "print(rec_subset(arr, len(arr)-1, 13))\n",
    "print(iCount)\n",
    "iCount=0\n"
   ]
  },
  {
   "cell_type": "code",
   "execution_count": 26,
   "metadata": {},
   "outputs": [
    {
     "name": "stdout",
     "output_type": "stream",
     "text": [
      "True\n",
      "45\n",
      "True\n",
      "55\n",
      "False\n",
      "65\n"
     ]
    }
   ],
   "source": [
    "\n",
    "iCount=0\n",
    "\n",
    "def loop_subset(arr, S):\n",
    "    import numpy as np\n",
    "    global iCount\n",
    "    subset=np.zeros((len(arr), S+1), dtype=np.bool)\n",
    "    subset[:, 0]=True\n",
    "    subset[0, :]=False\n",
    "    subset[0, arr[0]]=True\n",
    "    for i in range(1, len(arr)):\n",
    "        for s in range(1, S+1):\n",
    "            iCount=iCount+1\n",
    "            if (arr[i]>s):\n",
    "                subset[i, s] = subset[i-1, s]\n",
    "            else:\n",
    "                A=subset[i-1, s-arr[i]]\n",
    "                B=subset[i-1, s]\n",
    "                subset[i, s] = A or B \n",
    "    return subset[len(arr)-1, S]\n",
    "\n",
    "arr=[3, 34, 4, 12, 5, 2]\n",
    "iCount=0\n",
    "print(loop_subset(arr, 9))\n",
    "print(iCount)\n",
    "iCount=0\n",
    "print(loop_subset(arr, 11))\n",
    "print(iCount)\n",
    "iCount=0\n",
    "print(loop_subset(arr, 13))\n",
    "print(iCount)\n",
    "iCount=0\n"
   ]
  },
  {
   "cell_type": "code",
   "execution_count": 13,
   "metadata": {},
   "outputs": [
    {
     "name": "stdout",
     "output_type": "stream",
     "text": [
      "0\n",
      "1\n",
      "2\n",
      "3\n",
      "4\n",
      "5\n",
      "6\n",
      "7\n",
      "8\n",
      "9\n"
     ]
    }
   ],
   "source": [
    "for i in range(0, 10):\n",
    "    print(i)"
   ]
  },
  {
   "cell_type": "code",
   "execution_count": null,
   "metadata": {},
   "outputs": [],
   "source": []
  }
 ],
 "metadata": {
  "kernelspec": {
   "display_name": "Python 3",
   "language": "python",
   "name": "python3"
  },
  "language_info": {
   "codemirror_mode": {
    "name": "ipython",
    "version": 3
   },
   "file_extension": ".py",
   "mimetype": "text/x-python",
   "name": "python",
   "nbconvert_exporter": "python",
   "pygments_lexer": "ipython3",
   "version": "3.6.6"
  }
 },
 "nbformat": 4,
 "nbformat_minor": 2
}
