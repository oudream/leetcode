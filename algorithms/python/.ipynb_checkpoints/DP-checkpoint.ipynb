{
 "cells": [
  {
   "cell_type": "code",
   "execution_count": 2,
   "metadata": {},
   "outputs": [
    {
     "name": "stdout",
     "output_type": "stream",
     "text": [
      "15\n"
     ]
    }
   ],
   "source": [
    "arr = [1, 2, 4, 1, 7, 8, 3]\n",
    "\n",
    "def rec_opt(arr, k):\n",
    "    if (k == 0):\n",
    "        return arr[0]\n",
    "    elif (k == 1):\n",
    "        return max(arr[0], arr[1])\n",
    "    else:\n",
    "        r1=rec_opt(arr, k-1)\n",
    "        r2=rec_opt(arr, k-2)+arr[k]\n",
    "        return max(r1, r2)\n",
    "    \n",
    "print(rec_opt(arr,6))\n"
   ]
  },
  {
   "cell_type": "code",
   "execution_count": 3,
   "metadata": {},
   "outputs": [
    {
     "name": "stdout",
     "output_type": "stream",
     "text": [
      "15.0\n"
     ]
    }
   ],
   "source": [
    "\n",
    "def loop_opt(arr):\n",
    "    import numpy as np\n",
    "    opt = np.zeros(len(arr))\n",
    "    opt[0] = arr[0]\n",
    "    opt[1] = max(arr[0], arr[1])\n",
    "    for i in range(2, len(arr)):\n",
    "        r1 = opt[i-1]\n",
    "        r2 = opt[i-2] + arr[i]\n",
    "        opt[i] = max(r1, r2)\n",
    "    return opt[len(arr)-1]\n",
    "    \n",
    "print(loop_opt(arr))    \n"
   ]
  },
  {
   "cell_type": "code",
   "execution_count": null,
   "metadata": {},
   "outputs": [],
   "source": []
  }
 ],
 "metadata": {
  "kernelspec": {
   "display_name": "Python 3",
   "language": "python",
   "name": "python3"
  },
  "language_info": {
   "codemirror_mode": {
    "name": "ipython",
    "version": 3
   },
   "file_extension": ".py",
   "mimetype": "text/x-python",
   "name": "python",
   "nbconvert_exporter": "python",
   "pygments_lexer": "ipython3",
   "version": "3.6.6"
  }
 },
 "nbformat": 4,
 "nbformat_minor": 2
}
